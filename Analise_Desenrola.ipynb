{
 "cells": [
  {
   "cell_type": "markdown",
   "metadata": {},
   "source": [
    "#### Importações"
   ]
  },
  {
   "cell_type": "code",
   "execution_count": 54,
   "metadata": {},
   "outputs": [],
   "source": [
    "import pandas as pd\n",
    "import matplotlib.pyplot as plt\n",
    "import seaborn as sns"
   ]
  },
  {
   "cell_type": "markdown",
   "metadata": {},
   "source": [
    "#### Carregamento dos Dados"
   ]
  },
  {
   "cell_type": "code",
   "execution_count": 55,
   "metadata": {},
   "outputs": [
    {
     "data": {
      "text/html": [
       "<div>\n",
       "<style scoped>\n",
       "    .dataframe tbody tr th:only-of-type {\n",
       "        vertical-align: middle;\n",
       "    }\n",
       "\n",
       "    .dataframe tbody tr th {\n",
       "        vertical-align: top;\n",
       "    }\n",
       "\n",
       "    .dataframe thead th {\n",
       "        text-align: right;\n",
       "    }\n",
       "</style>\n",
       "<table border=\"1\" class=\"dataframe\">\n",
       "  <thead>\n",
       "    <tr style=\"text-align: right;\">\n",
       "      <th></th>\n",
       "      <th>DATA_BASE</th>\n",
       "      <th>TIPO_DESENROLA</th>\n",
       "      <th>UNIDADE_FEDERACAO</th>\n",
       "      <th>COD_CONGLOMERADO_FINANCEIRO</th>\n",
       "      <th>NOME_CONGLOMERADO_FINANCEIRO</th>\n",
       "      <th>NUMERO_OPERACOES</th>\n",
       "      <th>VOLUME_OPERACOES</th>\n",
       "    </tr>\n",
       "  </thead>\n",
       "  <tbody>\n",
       "    <tr>\n",
       "      <th>0</th>\n",
       "      <td>202309</td>\n",
       "      <td>2</td>\n",
       "      <td>AC</td>\n",
       "      <td>49906</td>\n",
       "      <td>BB</td>\n",
       "      <td>142</td>\n",
       "      <td>1421991,10</td>\n",
       "    </tr>\n",
       "    <tr>\n",
       "      <th>1</th>\n",
       "      <td>202309</td>\n",
       "      <td>2</td>\n",
       "      <td>AC</td>\n",
       "      <td>10045</td>\n",
       "      <td>BRADESCO</td>\n",
       "      <td>17</td>\n",
       "      <td>94097,52</td>\n",
       "    </tr>\n",
       "    <tr>\n",
       "      <th>2</th>\n",
       "      <td>202309</td>\n",
       "      <td>2</td>\n",
       "      <td>AC</td>\n",
       "      <td>49944</td>\n",
       "      <td>BTG PACTUAL</td>\n",
       "      <td>7</td>\n",
       "      <td>37788,79</td>\n",
       "    </tr>\n",
       "    <tr>\n",
       "      <th>3</th>\n",
       "      <td>202309</td>\n",
       "      <td>2</td>\n",
       "      <td>AC</td>\n",
       "      <td>51626</td>\n",
       "      <td>CAIXA ECONÔMICA FEDERAL</td>\n",
       "      <td>82</td>\n",
       "      <td>247430,66</td>\n",
       "    </tr>\n",
       "    <tr>\n",
       "      <th>4</th>\n",
       "      <td>202309</td>\n",
       "      <td>2</td>\n",
       "      <td>AC</td>\n",
       "      <td>51884</td>\n",
       "      <td>INTER</td>\n",
       "      <td>4</td>\n",
       "      <td>12306,86</td>\n",
       "    </tr>\n",
       "    <tr>\n",
       "      <th>...</th>\n",
       "      <td>...</td>\n",
       "      <td>...</td>\n",
       "      <td>...</td>\n",
       "      <td>...</td>\n",
       "      <td>...</td>\n",
       "      <td>...</td>\n",
       "      <td>...</td>\n",
       "    </tr>\n",
       "    <tr>\n",
       "      <th>6917</th>\n",
       "      <td>202411</td>\n",
       "      <td>3</td>\n",
       "      <td>SP</td>\n",
       "      <td>30379</td>\n",
       "      <td>SANTANDER</td>\n",
       "      <td>692</td>\n",
       "      <td>8651787,10</td>\n",
       "    </tr>\n",
       "    <tr>\n",
       "      <th>6918</th>\n",
       "      <td>202411</td>\n",
       "      <td>3</td>\n",
       "      <td>TO</td>\n",
       "      <td>49906</td>\n",
       "      <td>BB</td>\n",
       "      <td>4</td>\n",
       "      <td>107583,69</td>\n",
       "    </tr>\n",
       "    <tr>\n",
       "      <th>6919</th>\n",
       "      <td>202411</td>\n",
       "      <td>3</td>\n",
       "      <td>TO</td>\n",
       "      <td>10045</td>\n",
       "      <td>BRADESCO</td>\n",
       "      <td>1</td>\n",
       "      <td>18159,08</td>\n",
       "    </tr>\n",
       "    <tr>\n",
       "      <th>6920</th>\n",
       "      <td>202411</td>\n",
       "      <td>3</td>\n",
       "      <td>TO</td>\n",
       "      <td>10069</td>\n",
       "      <td>ITAU</td>\n",
       "      <td>10</td>\n",
       "      <td>31304,01</td>\n",
       "    </tr>\n",
       "    <tr>\n",
       "      <th>6921</th>\n",
       "      <td>202411</td>\n",
       "      <td>3</td>\n",
       "      <td>TO</td>\n",
       "      <td>30379</td>\n",
       "      <td>SANTANDER</td>\n",
       "      <td>17</td>\n",
       "      <td>683210,06</td>\n",
       "    </tr>\n",
       "  </tbody>\n",
       "</table>\n",
       "<p>6922 rows × 7 columns</p>\n",
       "</div>"
      ],
      "text/plain": [
       "      DATA_BASE  TIPO_DESENROLA UNIDADE_FEDERACAO  \\\n",
       "0        202309               2                AC   \n",
       "1        202309               2                AC   \n",
       "2        202309               2                AC   \n",
       "3        202309               2                AC   \n",
       "4        202309               2                AC   \n",
       "...         ...             ...               ...   \n",
       "6917     202411               3                SP   \n",
       "6918     202411               3                TO   \n",
       "6919     202411               3                TO   \n",
       "6920     202411               3                TO   \n",
       "6921     202411               3                TO   \n",
       "\n",
       "      COD_CONGLOMERADO_FINANCEIRO NOME_CONGLOMERADO_FINANCEIRO  \\\n",
       "0                           49906                           BB   \n",
       "1                           10045                     BRADESCO   \n",
       "2                           49944                  BTG PACTUAL   \n",
       "3                           51626      CAIXA ECONÔMICA FEDERAL   \n",
       "4                           51884                        INTER   \n",
       "...                           ...                          ...   \n",
       "6917                        30379                    SANTANDER   \n",
       "6918                        49906                           BB   \n",
       "6919                        10045                     BRADESCO   \n",
       "6920                        10069                         ITAU   \n",
       "6921                        30379                    SANTANDER   \n",
       "\n",
       "      NUMERO_OPERACOES VOLUME_OPERACOES  \n",
       "0                  142       1421991,10  \n",
       "1                   17         94097,52  \n",
       "2                    7         37788,79  \n",
       "3                   82        247430,66  \n",
       "4                    4         12306,86  \n",
       "...                ...              ...  \n",
       "6917               692       8651787,10  \n",
       "6918                 4        107583,69  \n",
       "6919                 1         18159,08  \n",
       "6920                10         31304,01  \n",
       "6921                17        683210,06  \n",
       "\n",
       "[6922 rows x 7 columns]"
      ]
     },
     "execution_count": 55,
     "metadata": {},
     "output_type": "execute_result"
    }
   ],
   "source": [
    "df_desenrola = pd.read_csv('dados_desenrola.csv', sep=';')\n",
    "df_desenrola"
   ]
  },
  {
   "cell_type": "markdown",
   "metadata": {},
   "source": [
    "#### Pré-processamento e Limpeza de Dados"
   ]
  },
  {
   "cell_type": "code",
   "execution_count": 56,
   "metadata": {},
   "outputs": [
    {
     "data": {
      "text/plain": [
       "(6922, 7)"
      ]
     },
     "execution_count": 56,
     "metadata": {},
     "output_type": "execute_result"
    }
   ],
   "source": [
    "df_desenrola.shape"
   ]
  },
  {
   "cell_type": "code",
   "execution_count": 57,
   "metadata": {},
   "outputs": [
    {
     "name": "stdout",
     "output_type": "stream",
     "text": [
      "<class 'pandas.core.frame.DataFrame'>\n",
      "RangeIndex: 6922 entries, 0 to 6921\n",
      "Data columns (total 7 columns):\n",
      " #   Column                        Non-Null Count  Dtype \n",
      "---  ------                        --------------  ----- \n",
      " 0   DATA_BASE                     6922 non-null   int64 \n",
      " 1   TIPO_DESENROLA                6922 non-null   int64 \n",
      " 2   UNIDADE_FEDERACAO             6922 non-null   object\n",
      " 3   COD_CONGLOMERADO_FINANCEIRO   6922 non-null   int64 \n",
      " 4   NOME_CONGLOMERADO_FINANCEIRO  6922 non-null   object\n",
      " 5   NUMERO_OPERACOES              6922 non-null   int64 \n",
      " 6   VOLUME_OPERACOES              6922 non-null   object\n",
      "dtypes: int64(4), object(3)\n",
      "memory usage: 378.7+ KB\n"
     ]
    }
   ],
   "source": [
    "df_desenrola.info()"
   ]
  },
  {
   "cell_type": "code",
   "execution_count": 58,
   "metadata": {},
   "outputs": [],
   "source": [
    "# Corrigindo o formato dos dados na coluna VOLUME_OPERACOES\n",
    "df_desenrola['VOLUME_OPERACOES'] = (\n",
    "    df_desenrola['VOLUME_OPERACOES']\n",
    "    .str.replace(',', '.', regex=True)\n",
    "    .astype(float)\n",
    ")\n"
   ]
  },
  {
   "cell_type": "code",
   "execution_count": 59,
   "metadata": {},
   "outputs": [
    {
     "data": {
      "text/plain": [
       "numpy.float64"
      ]
     },
     "execution_count": 59,
     "metadata": {},
     "output_type": "execute_result"
    }
   ],
   "source": [
    "type(df_desenrola['VOLUME_OPERACOES'][1])"
   ]
  },
  {
   "cell_type": "code",
   "execution_count": 60,
   "metadata": {},
   "outputs": [
    {
     "data": {
      "text/html": [
       "<div>\n",
       "<style scoped>\n",
       "    .dataframe tbody tr th:only-of-type {\n",
       "        vertical-align: middle;\n",
       "    }\n",
       "\n",
       "    .dataframe tbody tr th {\n",
       "        vertical-align: top;\n",
       "    }\n",
       "\n",
       "    .dataframe thead th {\n",
       "        text-align: right;\n",
       "    }\n",
       "</style>\n",
       "<table border=\"1\" class=\"dataframe\">\n",
       "  <thead>\n",
       "    <tr style=\"text-align: right;\">\n",
       "      <th></th>\n",
       "      <th>DATA_BASE</th>\n",
       "      <th>TIPO_DESENROLA</th>\n",
       "      <th>UNIDADE_FEDERACAO</th>\n",
       "      <th>COD_CONGLOMERADO_FINANCEIRO</th>\n",
       "      <th>NOME_CONGLOMERADO_FINANCEIRO</th>\n",
       "      <th>NUMERO_OPERACOES</th>\n",
       "      <th>VOLUME_OPERACOES</th>\n",
       "    </tr>\n",
       "  </thead>\n",
       "  <tbody>\n",
       "    <tr>\n",
       "      <th>0</th>\n",
       "      <td>202309</td>\n",
       "      <td>2</td>\n",
       "      <td>AC</td>\n",
       "      <td>49906</td>\n",
       "      <td>BB</td>\n",
       "      <td>142</td>\n",
       "      <td>1421991</td>\n",
       "    </tr>\n",
       "    <tr>\n",
       "      <th>1</th>\n",
       "      <td>202309</td>\n",
       "      <td>2</td>\n",
       "      <td>AC</td>\n",
       "      <td>10045</td>\n",
       "      <td>BRADESCO</td>\n",
       "      <td>17</td>\n",
       "      <td>94098</td>\n",
       "    </tr>\n",
       "    <tr>\n",
       "      <th>2</th>\n",
       "      <td>202309</td>\n",
       "      <td>2</td>\n",
       "      <td>AC</td>\n",
       "      <td>49944</td>\n",
       "      <td>BTG PACTUAL</td>\n",
       "      <td>7</td>\n",
       "      <td>37789</td>\n",
       "    </tr>\n",
       "    <tr>\n",
       "      <th>3</th>\n",
       "      <td>202309</td>\n",
       "      <td>2</td>\n",
       "      <td>AC</td>\n",
       "      <td>51626</td>\n",
       "      <td>CAIXA ECONÔMICA FEDERAL</td>\n",
       "      <td>82</td>\n",
       "      <td>247431</td>\n",
       "    </tr>\n",
       "    <tr>\n",
       "      <th>4</th>\n",
       "      <td>202309</td>\n",
       "      <td>2</td>\n",
       "      <td>AC</td>\n",
       "      <td>51884</td>\n",
       "      <td>INTER</td>\n",
       "      <td>4</td>\n",
       "      <td>12307</td>\n",
       "    </tr>\n",
       "  </tbody>\n",
       "</table>\n",
       "</div>"
      ],
      "text/plain": [
       "   DATA_BASE  TIPO_DESENROLA UNIDADE_FEDERACAO  COD_CONGLOMERADO_FINANCEIRO  \\\n",
       "0     202309               2                AC                        49906   \n",
       "1     202309               2                AC                        10045   \n",
       "2     202309               2                AC                        49944   \n",
       "3     202309               2                AC                        51626   \n",
       "4     202309               2                AC                        51884   \n",
       "\n",
       "  NOME_CONGLOMERADO_FINANCEIRO  NUMERO_OPERACOES  VOLUME_OPERACOES  \n",
       "0                           BB               142           1421991  \n",
       "1                     BRADESCO                17             94098  \n",
       "2                  BTG PACTUAL                 7             37789  \n",
       "3      CAIXA ECONÔMICA FEDERAL                82            247431  \n",
       "4                        INTER                 4             12307  "
      ]
     },
     "execution_count": 60,
     "metadata": {},
     "output_type": "execute_result"
    }
   ],
   "source": [
    "df_desenrola.head()"
   ]
  },
  {
   "cell_type": "code",
   "execution_count": 61,
   "metadata": {},
   "outputs": [
    {
     "data": {
      "text/html": [
       "<div>\n",
       "<style scoped>\n",
       "    .dataframe tbody tr th:only-of-type {\n",
       "        vertical-align: middle;\n",
       "    }\n",
       "\n",
       "    .dataframe tbody tr th {\n",
       "        vertical-align: top;\n",
       "    }\n",
       "\n",
       "    .dataframe thead th {\n",
       "        text-align: right;\n",
       "    }\n",
       "</style>\n",
       "<table border=\"1\" class=\"dataframe\">\n",
       "  <thead>\n",
       "    <tr style=\"text-align: right;\">\n",
       "      <th></th>\n",
       "      <th>DATA_BASE</th>\n",
       "      <th>TIPO_DESENROLA</th>\n",
       "      <th>COD_CONGLOMERADO_FINANCEIRO</th>\n",
       "      <th>NUMERO_OPERACOES</th>\n",
       "      <th>VOLUME_OPERACOES</th>\n",
       "    </tr>\n",
       "  </thead>\n",
       "  <tbody>\n",
       "    <tr>\n",
       "      <th>count</th>\n",
       "      <td>6922</td>\n",
       "      <td>6922</td>\n",
       "      <td>6922</td>\n",
       "      <td>6922</td>\n",
       "      <td>6922</td>\n",
       "    </tr>\n",
       "    <tr>\n",
       "      <th>mean</th>\n",
       "      <td>202375</td>\n",
       "      <td>1</td>\n",
       "      <td>1479006</td>\n",
       "      <td>350</td>\n",
       "      <td>861387</td>\n",
       "    </tr>\n",
       "    <tr>\n",
       "      <th>std</th>\n",
       "      <td>44</td>\n",
       "      <td>1</td>\n",
       "      <td>8748098</td>\n",
       "      <td>1431</td>\n",
       "      <td>4910157</td>\n",
       "    </tr>\n",
       "    <tr>\n",
       "      <th>min</th>\n",
       "      <td>202309</td>\n",
       "      <td>1</td>\n",
       "      <td>10045</td>\n",
       "      <td>1</td>\n",
       "      <td>0</td>\n",
       "    </tr>\n",
       "    <tr>\n",
       "      <th>25%</th>\n",
       "      <td>202312</td>\n",
       "      <td>1</td>\n",
       "      <td>30290</td>\n",
       "      <td>4</td>\n",
       "      <td>4077</td>\n",
       "    </tr>\n",
       "    <tr>\n",
       "      <th>50%</th>\n",
       "      <td>202403</td>\n",
       "      <td>1</td>\n",
       "      <td>49944</td>\n",
       "      <td>25</td>\n",
       "      <td>60451</td>\n",
       "    </tr>\n",
       "    <tr>\n",
       "      <th>75%</th>\n",
       "      <td>202407</td>\n",
       "      <td>2</td>\n",
       "      <td>51750</td>\n",
       "      <td>182</td>\n",
       "      <td>474873</td>\n",
       "    </tr>\n",
       "    <tr>\n",
       "      <th>max</th>\n",
       "      <td>202411</td>\n",
       "      <td>3</td>\n",
       "      <td>86829827</td>\n",
       "      <td>46465</td>\n",
       "      <td>214576047</td>\n",
       "    </tr>\n",
       "  </tbody>\n",
       "</table>\n",
       "</div>"
      ],
      "text/plain": [
       "       DATA_BASE  TIPO_DESENROLA  COD_CONGLOMERADO_FINANCEIRO  \\\n",
       "count       6922            6922                         6922   \n",
       "mean      202375               1                      1479006   \n",
       "std           44               1                      8748098   \n",
       "min       202309               1                        10045   \n",
       "25%       202312               1                        30290   \n",
       "50%       202403               1                        49944   \n",
       "75%       202407               2                        51750   \n",
       "max       202411               3                     86829827   \n",
       "\n",
       "       NUMERO_OPERACOES  VOLUME_OPERACOES  \n",
       "count              6922              6922  \n",
       "mean                350            861387  \n",
       "std                1431           4910157  \n",
       "min                   1                 0  \n",
       "25%                   4              4077  \n",
       "50%                  25             60451  \n",
       "75%                 182            474873  \n",
       "max               46465         214576047  "
      ]
     },
     "execution_count": 61,
     "metadata": {},
     "output_type": "execute_result"
    }
   ],
   "source": [
    "df_desenrola.describe()"
   ]
  },
  {
   "cell_type": "code",
   "execution_count": 62,
   "metadata": {},
   "outputs": [
    {
     "data": {
      "text/plain": [
       "DATA_BASE                       0\n",
       "TIPO_DESENROLA                  0\n",
       "UNIDADE_FEDERACAO               0\n",
       "COD_CONGLOMERADO_FINANCEIRO     0\n",
       "NOME_CONGLOMERADO_FINANCEIRO    0\n",
       "NUMERO_OPERACOES                0\n",
       "VOLUME_OPERACOES                0\n",
       "dtype: int64"
      ]
     },
     "execution_count": 62,
     "metadata": {},
     "output_type": "execute_result"
    }
   ],
   "source": [
    "df_desenrola.isnull().sum()"
   ]
  },
  {
   "cell_type": "markdown",
   "metadata": {},
   "source": [
    "#### Análise Exploratória de Dados (EDA)"
   ]
  },
  {
   "cell_type": "code",
   "execution_count": 70,
   "metadata": {},
   "outputs": [
    {
     "data": {
      "text/plain": [
       "TIPO_DESENROLA\n",
       "1    4249\n",
       "2    2051\n",
       "3     622\n",
       "Name: count, dtype: int64"
      ]
     },
     "execution_count": 70,
     "metadata": {},
     "output_type": "execute_result"
    }
   ],
   "source": [
    "# Ordem do tipo mais usado do programa\n",
    "df_tipos = df_desenrola['TIPO_DESENROLA'].value_counts()\n",
    "df_tipos"
   ]
  },
  {
   "cell_type": "code",
   "execution_count": 65,
   "metadata": {},
   "outputs": [
    {
     "data": {
      "image/png": "[encoded data removed]",
      "text/plain": [
       "<Figure size 800x800 with 1 Axes>"
      ]
     },
     "metadata": {},
     "output_type": "display_data"
    }
   ],
   "source": [
    "plt.figure(figsize=(8, 8))\n",
    "plt.pie(df_tipos, labels=df_tipos.index, autopct='%1.1f%%', startangle=140, colors=['#ff9999','#66b3ff','#99ff99'])\n",
    "plt.title('Distribuição dos Tipos de Desenrola')\n",
    "plt.show()"
   ]
  },
  {
   "cell_type": "code",
   "execution_count": 66,
   "metadata": {},
   "outputs": [
    {
     "data": {
      "text/html": [
       "<div>\n",
       "<style scoped>\n",
       "    .dataframe tbody tr th:only-of-type {\n",
       "        vertical-align: middle;\n",
       "    }\n",
       "\n",
       "    .dataframe tbody tr th {\n",
       "        vertical-align: top;\n",
       "    }\n",
       "\n",
       "    .dataframe thead th {\n",
       "        text-align: right;\n",
       "    }\n",
       "</style>\n",
       "<table border=\"1\" class=\"dataframe\">\n",
       "  <thead>\n",
       "    <tr style=\"text-align: right;\">\n",
       "      <th></th>\n",
       "      <th>NOME_CONGLOMERADO_FINANCEIRO</th>\n",
       "      <th>NUMERO_OPERACOES</th>\n",
       "    </tr>\n",
       "  </thead>\n",
       "  <tbody>\n",
       "    <tr>\n",
       "      <th>52</th>\n",
       "      <td>NUBANK</td>\n",
       "      <td>491137</td>\n",
       "    </tr>\n",
       "    <tr>\n",
       "      <th>14</th>\n",
       "      <td>CAIXA ECONÔMICA FEDERAL</td>\n",
       "      <td>400789</td>\n",
       "    </tr>\n",
       "    <tr>\n",
       "      <th>11</th>\n",
       "      <td>BTG PACTUAL</td>\n",
       "      <td>332027</td>\n",
       "    </tr>\n",
       "    <tr>\n",
       "      <th>51</th>\n",
       "      <td>ITAU</td>\n",
       "      <td>315899</td>\n",
       "    </tr>\n",
       "    <tr>\n",
       "      <th>53</th>\n",
       "      <td>SANTANDER</td>\n",
       "      <td>295655</td>\n",
       "    </tr>\n",
       "    <tr>\n",
       "      <th>50</th>\n",
       "      <td>INTER</td>\n",
       "      <td>212835</td>\n",
       "    </tr>\n",
       "    <tr>\n",
       "      <th>9</th>\n",
       "      <td>BRADESCO</td>\n",
       "      <td>122665</td>\n",
       "    </tr>\n",
       "    <tr>\n",
       "      <th>2</th>\n",
       "      <td>BB</td>\n",
       "      <td>117329</td>\n",
       "    </tr>\n",
       "    <tr>\n",
       "      <th>8</th>\n",
       "      <td>BMG</td>\n",
       "      <td>57938</td>\n",
       "    </tr>\n",
       "    <tr>\n",
       "      <th>13</th>\n",
       "      <td>C6 BANK</td>\n",
       "      <td>29540</td>\n",
       "    </tr>\n",
       "  </tbody>\n",
       "</table>\n",
       "</div>"
      ],
      "text/plain": [
       "   NOME_CONGLOMERADO_FINANCEIRO  NUMERO_OPERACOES\n",
       "52                       NUBANK            491137\n",
       "14      CAIXA ECONÔMICA FEDERAL            400789\n",
       "11                  BTG PACTUAL            332027\n",
       "51                         ITAU            315899\n",
       "53                    SANTANDER            295655\n",
       "50                        INTER            212835\n",
       "9                      BRADESCO            122665\n",
       "2                            BB            117329\n",
       "8                           BMG             57938\n",
       "13                      C6 BANK             29540"
      ]
     },
     "execution_count": 66,
     "metadata": {},
     "output_type": "execute_result"
    }
   ],
   "source": [
    "# Conglomerado com maior numero de operações totais, bancos mais ativos \n",
    "df_agrupado = df_desenrola.groupby(['NOME_CONGLOMERADO_FINANCEIRO'])['NUMERO_OPERACOES'].sum()\n",
    "df_agrupado.sort_values(ascending=False).head(10)\n",
    "df_top10 = df_agrupado.reset_index().sort_values(by='NUMERO_OPERACOES', ascending=False).head(10)\n",
    "df_top10"
   ]
  },
  {
   "cell_type": "code",
   "execution_count": 67,
   "metadata": {},
   "outputs": [
    {
     "name": "stderr",
     "output_type": "stream",
     "text": [
      "C:\\Users\\ricar\\AppData\\Local\\Temp\\ipykernel_1988\\4186247159.py:4: FutureWarning: \n",
      "\n",
      "Passing `palette` without assigning `hue` is deprecated and will be removed in v0.14.0. Assign the `y` variable to `hue` and set `legend=False` for the same effect.\n",
      "\n",
      "  sns.barplot(data=df_top10, y='NOME_CONGLOMERADO_FINANCEIRO', x='NUMERO_OPERACOES', palette='Blues_r')\n"
     ]
    },
    {
     "data": {
      "image/png": "[encoded data removed]",
      "text/plain": [
       "<Figure size 1000x500 with 1 Axes>"
      ]
     },
     "metadata": {},
     "output_type": "display_data"
    }
   ],
   "source": [
    "sns.set_theme(style=\"whitegrid\")\n",
    "plt.figure(figsize=(10, 5))\n",
    "\n",
    "sns.barplot(data=df_top10, y='NOME_CONGLOMERADO_FINANCEIRO', x='NUMERO_OPERACOES', palette='Blues_r')\n",
    "\n",
    "plt.title('Top 10 Bancos por Número de Operações')\n",
    "plt.xlabel('Número de Operações')\n",
    "plt.ylabel('Bancos')\n",
    "\n",
    "plt.show()"
   ]
  },
  {
   "cell_type": "code",
   "execution_count": 68,
   "metadata": {},
   "outputs": [
    {
     "data": {
      "text/html": [
       "<div>\n",
       "<style scoped>\n",
       "    .dataframe tbody tr th:only-of-type {\n",
       "        vertical-align: middle;\n",
       "    }\n",
       "\n",
       "    .dataframe tbody tr th {\n",
       "        vertical-align: top;\n",
       "    }\n",
       "\n",
       "    .dataframe thead th {\n",
       "        text-align: right;\n",
       "    }\n",
       "</style>\n",
       "<table border=\"1\" class=\"dataframe\">\n",
       "  <thead>\n",
       "    <tr style=\"text-align: right;\">\n",
       "      <th></th>\n",
       "      <th>UNIDADE_FEDERACAO</th>\n",
       "      <th>VOLUME_OPERACOES</th>\n",
       "    </tr>\n",
       "  </thead>\n",
       "  <tbody>\n",
       "    <tr>\n",
       "      <th>25</th>\n",
       "      <td>SP</td>\n",
       "      <td>1822828505</td>\n",
       "    </tr>\n",
       "    <tr>\n",
       "      <th>18</th>\n",
       "      <td>RJ</td>\n",
       "      <td>627571220</td>\n",
       "    </tr>\n",
       "    <tr>\n",
       "      <th>10</th>\n",
       "      <td>MG</td>\n",
       "      <td>489286159</td>\n",
       "    </tr>\n",
       "    <tr>\n",
       "      <th>17</th>\n",
       "      <td>PR</td>\n",
       "      <td>338434630</td>\n",
       "    </tr>\n",
       "    <tr>\n",
       "      <th>22</th>\n",
       "      <td>RS</td>\n",
       "      <td>305018053</td>\n",
       "    </tr>\n",
       "    <tr>\n",
       "      <th>4</th>\n",
       "      <td>BA</td>\n",
       "      <td>301806916</td>\n",
       "    </tr>\n",
       "    <tr>\n",
       "      <th>23</th>\n",
       "      <td>SC</td>\n",
       "      <td>211709256</td>\n",
       "    </tr>\n",
       "    <tr>\n",
       "      <th>15</th>\n",
       "      <td>PE</td>\n",
       "      <td>207252615</td>\n",
       "    </tr>\n",
       "    <tr>\n",
       "      <th>5</th>\n",
       "      <td>CE</td>\n",
       "      <td>199073530</td>\n",
       "    </tr>\n",
       "    <tr>\n",
       "      <th>8</th>\n",
       "      <td>GO</td>\n",
       "      <td>181182614</td>\n",
       "    </tr>\n",
       "  </tbody>\n",
       "</table>\n",
       "</div>"
      ],
      "text/plain": [
       "   UNIDADE_FEDERACAO  VOLUME_OPERACOES\n",
       "25                SP        1822828505\n",
       "18                RJ         627571220\n",
       "10                MG         489286159\n",
       "17                PR         338434630\n",
       "22                RS         305018053\n",
       "4                 BA         301806916\n",
       "23                SC         211709256\n",
       "15                PE         207252615\n",
       "5                 CE         199073530\n",
       "8                 GO         181182614"
      ]
     },
     "execution_count": 68,
     "metadata": {},
     "output_type": "execute_result"
    }
   ],
   "source": [
    "# Top 10 estados com maior volume de dividas renegociadas\n",
    "df_estados = df_desenrola.groupby(['UNIDADE_FEDERACAO'])['VOLUME_OPERACOES'].sum()\n",
    "df_estados.sort_values(ascending=False).head(10)\n",
    "df_estados_top10 = df_estados.reset_index().sort_values(by='VOLUME_OPERACOES', ascending=False).head(10)\n",
    "df_estados_top10"
   ]
  },
  {
   "cell_type": "code",
   "execution_count": 69,
   "metadata": {},
   "outputs": [
    {
     "name": "stderr",
     "output_type": "stream",
     "text": [
      "C:\\Users\\ricar\\AppData\\Local\\Temp\\ipykernel_1988\\2377292123.py:4: FutureWarning: \n",
      "\n",
      "Passing `palette` without assigning `hue` is deprecated and will be removed in v0.14.0. Assign the `y` variable to `hue` and set `legend=False` for the same effect.\n",
      "\n",
      "  sns.barplot(data=df_estados_top10, y='UNIDADE_FEDERACAO', x='VOLUME_OPERACOES', palette='Blues_r')\n"
     ]
    },
    {
     "data": {
      "image/png": "[encoded data removed]",
      "text/plain": [
       "<Figure size 1000x500 with 1 Axes>"
      ]
     },
     "metadata": {},
     "output_type": "display_data"
    }
   ],
   "source": [
    "sns.set_theme(style=\"whitegrid\")\n",
    "plt.figure(figsize=(10, 5)) \n",
    "\n",
    "sns.barplot(data=df_estados_top10, y='UNIDADE_FEDERACAO', x='VOLUME_OPERACOES', palette='Blues_r')\n",
    "\n",
    "plt.title('Top 10 Estados com maior volume de dividas renegociadas')\n",
    "plt.xlabel('Volume de Operações')\n",
    "plt.ylabel('Estados')\n",
    "\n",
    "for index, value in enumerate(df_estados_top10['VOLUME_OPERACOES']):\n",
    "    plt.text(value, index, f'{value:,.0f}', va='center')\n",
    "\n",
    "plt.show()"
   ]
  },
  {
   "cell_type": "markdown",
   "metadata": {},
   "source": [
    "#### Conclusões\n",
    "O tipo mais usado no período de agosto-setembro de 2023 foi o 1, que corresponde as faixas 1 e 2 do programa Desenrola Brasil.\n",
    "\n",
    "O banco mais ativo no programa no período foi o Nubank, seguido da Caixa Econômica Federal e BTG Pactual respectivamente.\n",
    "\n",
    "O estado com maior volume de renegociações foi São Paulo com R$1,822,828,505 renegociados no período."
   ]
  }
 ],
 "metadata": {
  "kernelspec": {
   "display_name": "base",
   "language": "python",
   "name": "python3"
  },
  "language_info": {
   "codemirror_mode": {
    "name": "ipython",
    "version": 3
   },
   "file_extension": ".py",
   "mimetype": "text/x-python",
   "name": "python",
   "nbconvert_exporter": "python",
   "pygments_lexer": "ipython3",
   "version": "3.12.2"
  }
 },
 "nbformat": 4,
 "nbformat_minor": 2
}
